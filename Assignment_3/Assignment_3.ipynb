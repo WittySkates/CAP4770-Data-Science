{
 "cells": [
  {
   "cell_type": "code",
   "execution_count": 1,
   "metadata": {},
   "outputs": [
    {
     "name": "stderr",
     "output_type": "stream",
     "text": [
      "\u001b[32m\u001b[1m   Updating\u001b[22m\u001b[39m registry at `C:\\Users\\conno\\.julia\\registries\\General`\n",
      "\u001b[32m\u001b[1m  Resolving\u001b[22m\u001b[39m package versions...\n",
      "\u001b[32m\u001b[1mNo Changes\u001b[22m\u001b[39m to `C:\\Users\\conno\\.julia\\environments\\v1.5\\Project.toml`\n",
      "\u001b[32m\u001b[1mNo Changes\u001b[22m\u001b[39m to `C:\\Users\\conno\\.julia\\environments\\v1.5\\Manifest.toml`\n",
      "\u001b[32m\u001b[1m  Resolving\u001b[22m\u001b[39m package versions...\n",
      "\u001b[32m\u001b[1mNo Changes\u001b[22m\u001b[39m to `C:\\Users\\conno\\.julia\\environments\\v1.5\\Project.toml`\n",
      "\u001b[32m\u001b[1mNo Changes\u001b[22m\u001b[39m to `C:\\Users\\conno\\.julia\\environments\\v1.5\\Manifest.toml`\n",
      "\u001b[32m\u001b[1m  Resolving\u001b[22m\u001b[39m package versions...\n",
      "\u001b[32m\u001b[1mNo Changes\u001b[22m\u001b[39m to `C:\\Users\\conno\\.julia\\environments\\v1.5\\Project.toml`\n",
      "\u001b[32m\u001b[1mNo Changes\u001b[22m\u001b[39m to `C:\\Users\\conno\\.julia\\environments\\v1.5\\Manifest.toml`\n"
     ]
    }
   ],
   "source": [
    "using Pkg\n",
    "\n",
    "Pkg.add(\"DataFrames\")\n",
    "Pkg.add(\"SQLite\")\n",
    "Pkg.add(\"LinearAlgebra\")\n",
    "\n",
    "using SQLite\n",
    "using DataFrames\n",
    "using LinearAlgebra"
   ]
  },
  {
   "cell_type": "code",
   "execution_count": 2,
   "metadata": {},
   "outputs": [],
   "source": [
    "db = SQLite.DB(pwd()*\"/names.db\");"
   ]
  },
  {
   "cell_type": "code",
   "execution_count": 3,
   "metadata": {},
   "outputs": [],
   "source": [
    "df = DBInterface.execute(db, \"SELECT * FROM BabyNames\") |> DataFrame;"
   ]
  },
  {
   "cell_type": "code",
   "execution_count": 4,
   "metadata": {},
   "outputs": [],
   "source": [
    "gd = groupby(df, [:sex]);"
   ]
  },
  {
   "cell_type": "code",
   "execution_count": 5,
   "metadata": {},
   "outputs": [],
   "source": [
    "Ny = nrow(unique(df, 1));"
   ]
  },
  {
   "cell_type": "code",
   "execution_count": 6,
   "metadata": {},
   "outputs": [],
   "source": [
    "uniqueG = unique(gd[1],2);\n",
    "Ng = nrow(uniqueG);"
   ]
  },
  {
   "cell_type": "code",
   "execution_count": 7,
   "metadata": {},
   "outputs": [],
   "source": [
    "uniqueB = unique(gd[2],2);\n",
    "Nb = nrow(uniqueB);"
   ]
  },
  {
   "cell_type": "code",
   "execution_count": 8,
   "metadata": {},
   "outputs": [],
   "source": [
    "g_to_i = Dict{String, Integer}(string(uniqueG[i,2]) => i for i = 1:1:Ng);\n",
    "i_to_g = Dict{Integer, String}(value => key for (key, value) in g_to_i);"
   ]
  },
  {
   "cell_type": "code",
   "execution_count": 9,
   "metadata": {},
   "outputs": [],
   "source": [
    "b_to_i = Dict{String, Integer}(string(uniqueB[i,2]) => i for i = 1:1:Nb);\n",
    "i_to_b = Dict{Integer, String}(value => key for (key, value) in b_to_i);"
   ]
  },
  {
   "cell_type": "code",
   "execution_count": 10,
   "metadata": {},
   "outputs": [],
   "source": [
    "Fg = zeros(Float32, Ng, Ny);\n",
    "Fb = zeros(Float32, Nb, Ny);"
   ]
  },
  {
   "cell_type": "code",
   "execution_count": 11,
   "metadata": {},
   "outputs": [],
   "source": [
    "for i in eachrow(df)\n",
    "    if(i[3] == \"F\")\n",
    "        Fg[g_to_i[string(i[2])],i[1] - 1879] = i[4];\n",
    "    else\n",
    "        Fb[b_to_i[string(i[2])],i[1] - 1879] = i[4];\n",
    "    end\n",
    "end"
   ]
  },
  {
   "cell_type": "code",
   "execution_count": 12,
   "metadata": {},
   "outputs": [],
   "source": [
    "Ty = zeros(Float32, 1, Ny);"
   ]
  },
  {
   "cell_type": "code",
   "execution_count": 13,
   "metadata": {},
   "outputs": [],
   "source": [
    "for i = 1:1:Ny\n",
    "    Ty[i] = sum(Fg[:,i]) + sum(Fb[:,i]);\n",
    "end"
   ]
  },
  {
   "cell_type": "code",
   "execution_count": 14,
   "metadata": {},
   "outputs": [],
   "source": [
    "Pg = zeros(Float32, Ng, Ny);\n",
    "Pb = zeros(Float32, Nb, Ny);"
   ]
  },
  {
   "cell_type": "code",
   "execution_count": 15,
   "metadata": {},
   "outputs": [],
   "source": [
    "for i = 1:1:Ny\n",
    "    Pg[:,i] = Fg[:,i]/Ty[i];\n",
    "    Pb[:,i] = Fb[:,i]/Ty[i];\n",
    "end"
   ]
  },
  {
   "cell_type": "code",
   "execution_count": 16,
   "metadata": {},
   "outputs": [],
   "source": [
    "Qg = zeros(Float32, Ng, Ny);\n",
    "Qb = zeros(Float32, Nb, Ny);"
   ]
  },
  {
   "cell_type": "code",
   "execution_count": 17,
   "metadata": {},
   "outputs": [],
   "source": [
    "for i = 1:1:Ng\n",
    "    Qg[i,:] = normalize(Pg[i,:]);\n",
    "end\n",
    "for i = 1:1:Nb\n",
    "    Qb[i,:] = normalize(Pb[i,:]);\n",
    "end"
   ]
  },
  {
   "cell_type": "code",
   "execution_count": 18,
   "metadata": {},
   "outputs": [],
   "source": [
    "#x = Qg*transpose(Qb)\n",
    "#y = findmax(x)"
   ]
  },
  {
   "cell_type": "code",
   "execution_count": 19,
   "metadata": {},
   "outputs": [],
   "source": [
    "#global girl = i_to_g[y[2][1]]\n",
    "#global boy = i_to_b[y[2][2]] \n",
    "#print(\"Boy and girl pair: (\", boy, \", \" , girl,\")\", \" Value: \", y[1])"
   ]
  },
  {
   "cell_type": "code",
   "execution_count": 20,
   "metadata": {},
   "outputs": [],
   "source": [
    "global viewg = [];\n",
    "global viewb = [];\n",
    "\n",
    "for i = 1:6833:61498\n",
    "    if(i == 61498)\n",
    "        push!(viewg, @view Qg[i:i+6834,:]);\n",
    "\n",
    "    else\n",
    "        push!(viewg, @view Qg[i:i+6832,:]);\n",
    "    end\n",
    "end\n",
    "\n",
    "for i = 1:4205:37846\n",
    "    if(i == 37846)\n",
    "        push!(viewb, @view Qb[i:i+4208,:]);\n",
    "    else\n",
    "        push!(viewb, @view Qb[i:i+4204,:]);\n",
    "    end\n",
    "end\n",
    "\n",
    "#= \n",
    "Testing for boundries\n",
    "        print(i,\":\", i+6834, \"\\n\")\n",
    "        print(size(@view Qg[i:i+6834,:]),\"\\n\")\n",
    "\n",
    "        print(i,\":\", i+6832, \"\\n\")\n",
    "        print(size(@view Qg[i:i+6832,:]),\"\\n\")\n",
    "        --------------------------------------\n",
    "        print(i,\":\", i+4208, \"\\n\")\n",
    "        print(size(@view Qb[i:i+4208,:]),\"\\n\")\n",
    "\n",
    "        print(i,\":\", i+4204, \"\\n\")\n",
    "        print(size(@view Qb[i:i+4204,:]),\"\\n\")\n",
    "=#"
   ]
  },
  {
   "cell_type": "code",
   "execution_count": 21,
   "metadata": {},
   "outputs": [],
   "source": [
    "global max_cosine = 0;\n",
    "global girl = \"\";\n",
    "global boy = \"\";\n",
    "#l = ReentrantLock()\n",
    "#global hold = [];\n",
    "\n",
    "for i = 1:10\n",
    "Threads.@threads for j = 1:10\n",
    "        temp_transpose = viewg[i]*transpose(viewb[j])\n",
    "        found = findmax(temp_transpose)\n",
    "        \n",
    "        # To construct matrix from the 100 parts\n",
    "        #=\n",
    "        #lock is needed to make sure hold isn't written at the same time\n",
    "        lock(l)\n",
    "        try\n",
    "            push!(hold, temp_transpose)\n",
    "        finally\n",
    "            unlock(l)\n",
    "        end\n",
    "        =#\n",
    "        \n",
    "        if(max_cosine < found[1])\n",
    "            global max_cosine = found[1]\n",
    "            if(i == 10)\n",
    "                global girl = i_to_g[found[2][1]+(6833*(i-1))+2]\n",
    "                global boy = i_to_b[found[2][2]+(4205*(j-1))+4]   \n",
    "            else\n",
    "                global girl = i_to_g[found[2][1]+6833*(i-1)]\n",
    "                global boy = i_to_b[found[2][2]+4205*(j-1)]  \n",
    "            end\n",
    "        end\n",
    "    end\n",
    "end"
   ]
  },
  {
   "cell_type": "code",
   "execution_count": 22,
   "metadata": {},
   "outputs": [
    {
     "name": "stdout",
     "output_type": "stream",
     "text": [
      "Boy and girl pair: (Alwood, Amilda)"
     ]
    }
   ],
   "source": [
    "print(\"Boy and girl pair: (\", boy, \", \" , girl,\")\")"
   ]
  },
  {
   "cell_type": "code",
   "execution_count": 23,
   "metadata": {},
   "outputs": [
    {
     "data": {
      "text/plain": [
       "8"
      ]
     },
     "execution_count": 23,
     "metadata": {},
     "output_type": "execute_result"
    }
   ],
   "source": [
    "Threads.nthreads()"
   ]
  },
  {
   "cell_type": "code",
   "execution_count": null,
   "metadata": {},
   "outputs": [],
   "source": []
  }
 ],
 "metadata": {
  "kernelspec": {
   "display_name": "Julia (8 threads) 1.5.3",
   "language": "julia",
   "name": "julia-(8-threads)-1.5"
  },
  "language_info": {
   "file_extension": ".jl",
   "mimetype": "application/julia",
   "name": "julia",
   "version": "1.5.3"
  }
 },
 "nbformat": 4,
 "nbformat_minor": 4
}
