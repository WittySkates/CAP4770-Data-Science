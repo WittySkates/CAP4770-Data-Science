{
 "cells": [
  {
   "cell_type": "code",
   "execution_count": 1,
   "metadata": {},
   "outputs": [
    {
     "name": "stderr",
     "output_type": "stream",
     "text": [
      "\u001b[32m\u001b[1m   Updating\u001b[22m\u001b[39m registry at `C:\\Users\\conno\\.julia\\registries\\General`\n",
      "\u001b[32m\u001b[1m  Resolving\u001b[22m\u001b[39m package versions...\n",
      "\u001b[32m\u001b[1mNo Changes\u001b[22m\u001b[39m to `C:\\Users\\conno\\.julia\\environments\\v1.5\\Project.toml`\n",
      "\u001b[32m\u001b[1mNo Changes\u001b[22m\u001b[39m to `C:\\Users\\conno\\.julia\\environments\\v1.5\\Manifest.toml`\n",
      "\u001b[32m\u001b[1m  Resolving\u001b[22m\u001b[39m package versions...\n",
      "\u001b[32m\u001b[1mNo Changes\u001b[22m\u001b[39m to `C:\\Users\\conno\\.julia\\environments\\v1.5\\Project.toml`\n",
      "\u001b[32m\u001b[1mNo Changes\u001b[22m\u001b[39m to `C:\\Users\\conno\\.julia\\environments\\v1.5\\Manifest.toml`\n",
      "\u001b[32m\u001b[1m  Resolving\u001b[22m\u001b[39m package versions...\n",
      "\u001b[32m\u001b[1mNo Changes\u001b[22m\u001b[39m to `C:\\Users\\conno\\.julia\\environments\\v1.5\\Project.toml`\n",
      "\u001b[32m\u001b[1mNo Changes\u001b[22m\u001b[39m to `C:\\Users\\conno\\.julia\\environments\\v1.5\\Manifest.toml`\n"
     ]
    }
   ],
   "source": [
    "using Pkg\n",
    "\n",
    "Pkg.add(\"DataFrames\")\n",
    "Pkg.add(\"SQLite\")\n",
    "Pkg.add(\"LinearAlgebra\")\n",
    "\n",
    "using SQLite\n",
    "using DataFrames\n",
    "using LinearAlgebra"
   ]
  },
  {
   "cell_type": "code",
   "execution_count": 2,
   "metadata": {},
   "outputs": [],
   "source": [
    "db = SQLite.DB(pwd()*\"/names.db\");"
   ]
  },
  {
   "cell_type": "code",
   "execution_count": 3,
   "metadata": {},
   "outputs": [],
   "source": [
    "df = DBInterface.execute(db, \"SELECT * FROM BabyNames\") |> DataFrame;"
   ]
  },
  {
   "cell_type": "code",
   "execution_count": 4,
   "metadata": {},
   "outputs": [],
   "source": [
    "gd = groupby(df, [:sex]);"
   ]
  },
  {
   "cell_type": "code",
   "execution_count": 5,
   "metadata": {},
   "outputs": [],
   "source": [
    "Ny = nrow(unique(df, 1));"
   ]
  },
  {
   "cell_type": "code",
   "execution_count": 6,
   "metadata": {},
   "outputs": [],
   "source": [
    "uniqueG = unique(gd[1],2);\n",
    "Ng = nrow(uniqueG);"
   ]
  },
  {
   "cell_type": "code",
   "execution_count": 7,
   "metadata": {},
   "outputs": [],
   "source": [
    "uniqueB = unique(gd[2],2);\n",
    "Nb = nrow(uniqueB);"
   ]
  },
  {
   "cell_type": "code",
   "execution_count": 8,
   "metadata": {},
   "outputs": [],
   "source": [
    "g_to_i = Dict{String, Integer}(string(uniqueG[i,2]) => i for i = 1:1:Ng);\n",
    "i_to_g = Dict{Integer, String}(value => key for (key, value) in g_to_i);"
   ]
  },
  {
   "cell_type": "code",
   "execution_count": 9,
   "metadata": {},
   "outputs": [],
   "source": [
    "b_to_i = Dict{String, Integer}(string(uniqueB[i,2]) => i for i = 1:1:Nb);\n",
    "i_to_b = Dict{Integer, String}(value => key for (key, value) in b_to_i);"
   ]
  },
  {
   "cell_type": "code",
   "execution_count": 10,
   "metadata": {},
   "outputs": [],
   "source": [
    "Fg = zeros(Float32, Ng, Ny);\n",
    "Fb = zeros(Float32, Nb, Ny);"
   ]
  },
  {
   "cell_type": "code",
   "execution_count": 11,
   "metadata": {},
   "outputs": [],
   "source": [
    "for i in eachrow(df)\n",
    "    if(i[3] == \"F\")\n",
    "        Fg[g_to_i[string(i[2])],i[1] - 1879] = i[4];\n",
    "    else\n",
    "        Fb[b_to_i[string(i[2])],i[1] - 1879] = i[4];\n",
    "    end\n",
    "end"
   ]
  },
  {
   "cell_type": "code",
   "execution_count": 12,
   "metadata": {},
   "outputs": [],
   "source": [
    "Ty = zeros(Float32, 1, Ny);"
   ]
  },
  {
   "cell_type": "code",
   "execution_count": 13,
   "metadata": {},
   "outputs": [],
   "source": [
    "for i = 1:1:Ny\n",
    "    Ty[i] = sum(Fg[:,i]) + sum(Fb[:,i]);\n",
    "end"
   ]
  },
  {
   "cell_type": "code",
   "execution_count": 14,
   "metadata": {},
   "outputs": [],
   "source": [
    "Pg = zeros(Float32, Ng, Ny);\n",
    "Pb = zeros(Float32, Nb, Ny);"
   ]
  },
  {
   "cell_type": "code",
   "execution_count": 15,
   "metadata": {},
   "outputs": [],
   "source": [
    "for i = 1:1:Ny\n",
    "    Pg[:,i] = Fg[:,i]/Ty[i];\n",
    "    Pb[:,i] = Fb[:,i]/Ty[i];\n",
    "end"
   ]
  },
  {
   "cell_type": "code",
   "execution_count": 16,
   "metadata": {},
   "outputs": [],
   "source": [
    "Qg = zeros(Float32, Ng, Ny);\n",
    "Qb = zeros(Float32, Nb, Ny);"
   ]
  },
  {
   "cell_type": "code",
   "execution_count": 17,
   "metadata": {},
   "outputs": [],
   "source": [
    "for i = 1:1:Ng\n",
    "    Qg[i,:] = normalize(Pg[i,:]);\n",
    "end\n",
    "for i = 1:1:Nb\n",
    "    Qb[i,:] = normalize(Pb[i,:]);\n",
    "end"
   ]
  },
  {
   "cell_type": "code",
   "execution_count": 18,
   "metadata": {},
   "outputs": [],
   "source": [
    "#x = Qg*transpose(Qb)\n",
    "#y = findmax(x)"
   ]
  },
  {
   "cell_type": "code",
   "execution_count": 19,
   "metadata": {},
   "outputs": [],
   "source": [
    "#global girl = i_to_g[y[2][1]]\n",
    "#global boy = i_to_b[y[2][2]] \n",
    "#print(\"Boy and girl pair: (\", boy, \", \" , girl,\")\", \" Value: \", y[1])"
   ]
  },
  {
   "cell_type": "code",
   "execution_count": 20,
   "metadata": {},
   "outputs": [],
   "source": [
    "global viewg = [];\n",
    "global viewb = [];\n",
    "\n",
    "for i = 1:6833:61498\n",
    "    if(i == 61498)\n",
    "        push!(viewg, @view Qg[i:i+6834,:]);\n",
    "\n",
    "    else\n",
    "        push!(viewg, @view Qg[i:i+6832,:]);\n",
    "    end\n",
    "end\n",
    "\n",
    "for i = 1:4205:37846\n",
    "    if(i == 37846)\n",
    "        push!(viewb, @view Qb[i:i+4208,:]);\n",
    "    else\n",
    "        push!(viewb, @view Qb[i:i+4204,:]);\n",
    "    end\n",
    "end\n",
    "\n",
    "#= \n",
    "Testing for boundries\n",
    "        print(i,\":\", i+6834, \"\\n\")\n",
    "        print(size(@view Qg[i:i+6834,:]),\"\\n\")\n",
    "\n",
    "        print(i,\":\", i+6832, \"\\n\")\n",
    "        print(size(@view Qg[i:i+6832,:]),\"\\n\")\n",
    "        --------------------------------------\n",
    "        print(i,\":\", i+4208, \"\\n\")\n",
    "        print(size(@view Qb[i:i+4208,:]),\"\\n\")\n",
    "\n",
    "        print(i,\":\", i+4204, \"\\n\")\n",
    "        print(size(@view Qb[i:i+4204,:]),\"\\n\")\n",
    "=#"
   ]
  },
  {
   "cell_type": "code",
   "execution_count": 21,
   "metadata": {},
   "outputs": [],
   "source": [
    "global max_cosine = 0;\n",
    "global girl = \"\";\n",
    "global boy = \"\";\n",
    "#l = ReentrantLock()\n",
    "#global hold = [];\n",
    "\n",
    "for i = 1:10\n",
    "Threads.@threads for j = 1:10\n",
    "        temp_transpose = viewg[i]*transpose(viewb[j])\n",
    "        found = findmax(temp_transpose)\n",
    "        \n",
    "        # To construct matrix from the 100 parts\n",
    "        #=\n",
    "        #lock is needed to make sure hold isn't written at the same time\n",
    "        lock(l)\n",
    "        try\n",
    "            push!(hold, temp_transpose)\n",
    "        finally\n",
    "            unlock(l)\n",
    "        end\n",
    "        =#\n",
    "        \n",
    "        if(max_cosine < found[1])\n",
    "            global max_cosine = found[1]\n",
    "            if(i == 10)\n",
    "                global girl = i_to_g[found[2][1]+(6833*(i-1))+2]\n",
    "                global boy = i_to_b[found[2][2]+(4205*(j-1))+4]   \n",
    "            else\n",
    "                global girl = i_to_g[found[2][1]+6833*(i-1)]\n",
    "                global boy = i_to_b[found[2][2]+4205*(j-1)]  \n",
    "            end\n",
    "        end\n",
    "    end\n",
    "end"
   ]
  },
  {
   "cell_type": "code",
   "execution_count": 22,
   "metadata": {},
   "outputs": [
    {
     "name": "stdout",
     "output_type": "stream",
     "text": [
      "Boy and girl pair: (Alwood, Amilda)"
     ]
    }
   ],
   "source": [
    "print(\"Boy and girl pair: (\", boy, \", \" , girl,\")\")"
   ]
  },
  {
   "cell_type": "code",
   "execution_count": 23,
   "metadata": {},
   "outputs": [
    {
     "name": "stdout",
     "output_type": "stream",
     "text": [
      "1\n",
      "1\n",
      "1\n",
      "1\n",
      "1\n",
      "1"
     ]
    },
    {
     "ename": "LoadError",
     "evalue": "\u001b[91mInterruptException:\u001b[39m",
     "output_type": "error",
     "traceback": [
      "\u001b[91mInterruptException:\u001b[39m",
      "",
      "Stacktrace:",
      " [1] try_yieldto(::typeof(Base.ensure_rescheduled)) at .\\task.jl:656",
      " [2] wait at .\\task.jl:713 [inlined]",
      " [3] uv_write(::Base.PipeEndpoint, ::Ptr{UInt8}, ::UInt64) at .\\stream.jl:933",
      " [4] unsafe_write(::Base.PipeEndpoint, ::Ptr{UInt8}, ::UInt64) at .\\stream.jl:1005",
      " [5] unsafe_write at .\\io.jl:337 [inlined]",
      " [6] write at .\\strings\\io.jl:183 [inlined]",
      " [7] show at .\\show.jl:653 [inlined]",
      " [8] print(::IJulia.IJuliaStdio{Base.PipeEndpoint}, ::Int64) at .\\strings\\io.jl:35",
      " [9] print(::IJulia.IJuliaStdio{Base.PipeEndpoint}, ::Int64, ::String) at .\\strings\\io.jl:46",
      " [10] print(::Int64, ::String) at .\\coreio.jl:3",
      " [11] top-level scope at .\\In[23]:23",
      " [12] include_string(::Function, ::Module, ::String, ::String) at .\\loading.jl:1091"
     ]
    }
   ],
   "source": [
    "global girl = \"\";\n",
    "global boy = \"\";\n",
    "global topk_pairs = [];\n",
    "global topk = 1000;\n",
    "global j = 1;\n",
    "\n",
    "for i = 1:10\n",
    "Threads.@threads for j = 1:10\n",
    "        temp_transpose = viewg[i]*transpose(viewb[j])\n",
    "        temp_flat = vec(temp_transpose)\n",
    "        ps = sort(temp_flat; alg=PartialQuickSort(topk))\n",
    "        \n",
    "        for i = 1:1000\n",
    "            f = findall(x->x==ps[i], temp_transpose)\n",
    "            #print(f, \"\\n\")\n",
    "            push!(topk_pairs, [ps[i], f[j % (size(f)[1]+1)]])\n",
    "            if (j % (size(f)[1]+1) == size(f)[1])\n",
    "                j = 1\n",
    "            else\n",
    "                j = j+1\n",
    "            end  \n",
    "        end\n",
    "        print(i, \"\\n\")\n",
    "    end\n",
    "end"
   ]
  },
  {
   "cell_type": "code",
   "execution_count": 24,
   "metadata": {},
   "outputs": [
    {
     "data": {
      "text/plain": [
       "2459-element Array{Any,1}:\n",
       " Any[0.0f0, CartesianIndex(2071, 359)]\n",
       " Any[0.0f0, CartesianIndex(2071, 359)]\n",
       " Any[0.0f0, CartesianIndex(2071, 359)]\n",
       " Any[0.0f0, CartesianIndex(2071, 359)]\n",
       " Any[0.0f0, CartesianIndex(2071, 359)]\n",
       " Any[0.0f0, CartesianIndex(2071, 359)]\n",
       " Any[0.0f0, CartesianIndex(2071, 359)]\n",
       " Any[0.0f0, CartesianIndex(2071, 359)]\n",
       " Any[0.0f0, CartesianIndex(3171, 360)]\n",
       " Any[0.0f0, CartesianIndex(3220, 360)]\n",
       " Any[0.0f0, CartesianIndex(2884, 370)]\n",
       " Any[0.0f0, CartesianIndex(2960, 370)]\n",
       " Any[0.0f0, CartesianIndex(2979, 370)]\n",
       " ⋮\n",
       " Any[0.0f0, CartesianIndex(907, 1)]\n",
       " Any[0.0f0, CartesianIndex(910, 1)]\n",
       " Any[0.0f0, CartesianIndex(911, 1)]\n",
       " Any[0.0f0, CartesianIndex(913, 1)]\n",
       " Any[0.0f0, CartesianIndex(914, 1)]\n",
       " Any[0.0f0, CartesianIndex(914, 1)]\n",
       " Any[0.0f0, CartesianIndex(915, 1)]\n",
       " Any[0.0f0, CartesianIndex(918, 1)]\n",
       " Any[0.0f0, CartesianIndex(919, 1)]\n",
       " Any[0.0f0, CartesianIndex(922, 1)]\n",
       " Any[0.0f0, CartesianIndex(927, 1)]\n",
       " Any[0.0f0, CartesianIndex(931, 1)]"
      ]
     },
     "execution_count": 24,
     "metadata": {},
     "output_type": "execute_result"
    }
   ],
   "source": [
    "topk_pairs"
   ]
  },
  {
   "cell_type": "code",
   "execution_count": 35,
   "metadata": {},
   "outputs": [
    {
     "data": {
      "text/plain": [
       "10000-element Array{Int64,1}:\n",
       " 4918\n",
       " 1054\n",
       "  272\n",
       " 1487\n",
       " 2227\n",
       " 2100\n",
       " 4474\n",
       " 3913\n",
       " 3227\n",
       " 4112\n",
       " 2316\n",
       " 2099\n",
       "  557\n",
       "    ⋮\n",
       " 4480\n",
       " 1825\n",
       " 3930\n",
       " 1018\n",
       " 3570\n",
       "  747\n",
       " 2574\n",
       " 1847\n",
       "   37\n",
       "  997\n",
       " 2404\n",
       " 2539"
      ]
     },
     "execution_count": 35,
     "metadata": {},
     "output_type": "execute_result"
    }
   ],
   "source": [
    "a = rand(1:5000,10000)"
   ]
  },
  {
   "cell_type": "code",
   "execution_count": 36,
   "metadata": {},
   "outputs": [
    {
     "data": {
      "text/plain": [
       "10000-element Array{Int64,1}:\n",
       " 5000\n",
       " 5000\n",
       " 5000\n",
       " 5000\n",
       " 4999\n",
       " 4999\n",
       " 4999\n",
       " 4998\n",
       " 4998\n",
       " 4998\n",
       " 4998\n",
       " 4996\n",
       " 4996\n",
       "    ⋮\n",
       " 1487\n",
       " 1825\n",
       "  272\n",
       " 1018\n",
       " 1054\n",
       "  747\n",
       " 2574\n",
       " 1847\n",
       "   37\n",
       "  997\n",
       " 2404\n",
       " 2539"
      ]
     },
     "execution_count": 36,
     "metadata": {},
     "output_type": "execute_result"
    }
   ],
   "source": [
    "ps = sort(a; alg=PartialQuickSort(1000), rev=true)"
   ]
  },
  {
   "cell_type": "code",
   "execution_count": 38,
   "metadata": {},
   "outputs": [],
   "source": [
    "x = []\n",
    "j = 1\n",
    "for i = 1:1000\n",
    "    #print(ps[i], \": \")\n",
    "    \n",
    "    f = findall(x->x==ps[i], a)\n",
    "    \n",
    "    #print(f,\" \",size(f)[1],\" \",size(f)[1]+1,\" \",j, \"\\n\")\n",
    "    \n",
    "    push!(x, [ps[i], f[j % (size(f)[1]+1)]])\n",
    "\n",
    "    if (j % (size(f)[1]+1) == size(f)[1])\n",
    "        j = 1\n",
    "    else\n",
    "        j = j+1\n",
    "    end  \n",
    "end"
   ]
  },
  {
   "cell_type": "code",
   "execution_count": 28,
   "metadata": {},
   "outputs": [
    {
     "data": {
      "text/plain": [
       "1000-element Array{Any,1}:\n",
       " [5000, 7100]\n",
       " [4999, 4603]\n",
       " [4999, 5280]\n",
       " [4999, 9046]\n",
       " [4997, 4900]\n",
       " [4997, 6528]\n",
       " [4997, 6614]\n",
       " [4997, 6925]\n",
       " [4995, 5332]\n",
       " [4994, 1895]\n",
       " [4994, 7882]\n",
       " [4994, 9620]\n",
       " [4993, 675]\n",
       " ⋮\n",
       " [4492, 378]\n",
       " [4492, 9072]\n",
       " [4491, 877]\n",
       " [4491, 2407]\n",
       " [4491, 4239]\n",
       " [4491, 7453]\n",
       " [4490, 1307]\n",
       " [4490, 9081]\n",
       " [4489, 3741]\n",
       " [4489, 6126]\n",
       " [4489, 7600]\n",
       " [4489, 8455]"
      ]
     },
     "execution_count": 28,
     "metadata": {},
     "output_type": "execute_result"
    }
   ],
   "source": [
    "x"
   ]
  },
  {
   "cell_type": "code",
   "execution_count": 29,
   "metadata": {},
   "outputs": [
    {
     "data": {
      "text/plain": [
       "true"
      ]
     },
     "execution_count": 29,
     "metadata": {},
     "output_type": "execute_result"
    }
   ],
   "source": [
    "x = rand(1:500, 100)\n",
    "k = 50\n",
    "k2 = 50:100\n",
    "s = sort(x; alg=QuickSort)\n",
    "ps = sort(x; alg=PartialQuickSort(k), rev=true)\n",
    "qs = sort(x; alg=PartialQuickSort(k2))\n",
    "map(issorted, (s, ps, qs))             # => (true, false, false)\n",
    "map(x->issorted(x[1:k]), (s, ps, qs))  # => (true, true, false)\n",
    "map(x->issorted(x[k2]), (s, ps, qs))   # => (true, false, true)\n",
    "s[1:k] == ps[1:k]                      # => true\n",
    "s[k2] == qs[k2]  "
   ]
  },
  {
   "cell_type": "code",
   "execution_count": 30,
   "metadata": {},
   "outputs": [
    {
     "data": {
      "text/plain": [
       "100-element Array{Int64,1}:\n",
       " 477\n",
       " 240\n",
       " 297\n",
       " 186\n",
       "  75\n",
       " 493\n",
       " 486\n",
       " 498\n",
       " 351\n",
       " 161\n",
       " 399\n",
       " 143\n",
       " 282\n",
       "   ⋮\n",
       " 421\n",
       "  71\n",
       " 157\n",
       " 210\n",
       " 255\n",
       "  26\n",
       " 287\n",
       " 181\n",
       " 477\n",
       " 479\n",
       " 270\n",
       " 176"
      ]
     },
     "execution_count": 30,
     "metadata": {},
     "output_type": "execute_result"
    }
   ],
   "source": [
    "x"
   ]
  },
  {
   "cell_type": "code",
   "execution_count": 31,
   "metadata": {},
   "outputs": [
    {
     "data": {
      "text/plain": [
       "100-element Array{Int64,1}:\n",
       " 498\n",
       " 493\n",
       " 491\n",
       " 486\n",
       " 482\n",
       " 480\n",
       " 479\n",
       " 477\n",
       " 477\n",
       " 476\n",
       " 474\n",
       " 459\n",
       " 456\n",
       "   ⋮\n",
       " 132\n",
       "  71\n",
       " 157\n",
       " 210\n",
       " 143\n",
       "  26\n",
       " 161\n",
       " 181\n",
       "  75\n",
       " 186\n",
       " 240\n",
       " 176"
      ]
     },
     "execution_count": 31,
     "metadata": {},
     "output_type": "execute_result"
    }
   ],
   "source": [
    "ps[1:100]"
   ]
  },
  {
   "cell_type": "code",
   "execution_count": 32,
   "metadata": {},
   "outputs": [
    {
     "data": {
      "text/plain": [
       "3×2 Array{Int64,2}:\n",
       "  4   3\n",
       "  1   2\n",
       " 12  11"
      ]
     },
     "execution_count": 32,
     "metadata": {},
     "output_type": "execute_result"
    }
   ],
   "source": [
    "A = [4 3; 1 2; 12 11]"
   ]
  },
  {
   "cell_type": "code",
   "execution_count": 33,
   "metadata": {},
   "outputs": [
    {
     "data": {
      "text/plain": [
       "3×2 Array{Int64,2}:\n",
       "  1   2\n",
       "  4   3\n",
       " 12  11"
      ]
     },
     "execution_count": 33,
     "metadata": {},
     "output_type": "execute_result"
    }
   ],
   "source": [
    "sort!(A, dims = 1); \n",
    "A"
   ]
  },
  {
   "cell_type": "code",
   "execution_count": 34,
   "metadata": {},
   "outputs": [
    {
     "data": {
      "text/plain": [
       "6-element Array{Int64,1}:\n",
       "  1\n",
       "  4\n",
       " 12\n",
       "  2\n",
       "  3\n",
       " 11"
      ]
     },
     "execution_count": 34,
     "metadata": {},
     "output_type": "execute_result"
    }
   ],
   "source": [
    "t = vec(A)"
   ]
  },
  {
   "cell_type": "code",
   "execution_count": null,
   "metadata": {},
   "outputs": [],
   "source": []
  }
 ],
 "metadata": {
  "kernelspec": {
   "display_name": "Julia (8 threads) 1.5.3",
   "language": "julia",
   "name": "julia-(8-threads)-1.5"
  },
  "language_info": {
   "file_extension": ".jl",
   "mimetype": "application/julia",
   "name": "julia",
   "version": "1.5.3"
  }
 },
 "nbformat": 4,
 "nbformat_minor": 4
}
